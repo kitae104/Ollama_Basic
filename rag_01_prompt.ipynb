{
 "cells": [
  {
   "cell_type": "markdown",
   "metadata": {},
   "source": [
    "### 프롬프트의 세가지 형태\n",
    "1. SystemMessage : LLM에게 역할을 부여하는 메시지\n",
    "2. HumanMessage : LLM에게 전달하는 사용자 메시지\n",
    "3. AIMessage : LLM이 출력한 메시지"
   ]
  }
 ],
 "metadata": {
  "language_info": {
   "name": "python"
  }
 },
 "nbformat": 4,
 "nbformat_minor": 2
}

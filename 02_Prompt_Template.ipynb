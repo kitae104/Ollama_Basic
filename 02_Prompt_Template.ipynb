{
 "cells": [
  {
   "cell_type": "code",
   "execution_count": 2,
   "metadata": {},
   "outputs": [
    {
     "data": {
      "text/plain": [
       "True"
      ]
     },
     "execution_count": 2,
     "metadata": {},
     "output_type": "execute_result"
    }
   ],
   "source": [
    "from dotenv import load_dotenv\n",
    "load_dotenv('.env')"
   ]
  },
  {
   "cell_type": "code",
   "execution_count": 5,
   "metadata": {},
   "outputs": [
    {
     "name": "stdout",
     "output_type": "stream",
     "text": [
      "1. 지구는 태양계에서 세 번째 행성으로, 생명체가 거주하는 유일한 천체입니다.\n",
      "2. 지름은 약 12,742킬로미터이며 대략 타원형 모양을 하고 있습니다.\n",
      "3. 지구의 중력은 달과 다른 위성들의 공전뿐만 아니라 바다와 대기에도 영향을 미칩니다.\n"
     ]
    }
   ],
   "source": [
    "from langchain_ollama import ChatOllama\n",
    "\n",
    "base_url = \"http://localhost:11434\"\n",
    "model = 'eeve:q4'\n",
    "\n",
    "llm = ChatOllama(base_url=base_url, model=model)\n",
    "\n",
    "question = \"지구에 대해 3가지로 말해줘\"\n",
    "response = llm.invoke(question)\n",
    "print(response.content)"
   ]
  },
  {
   "cell_type": "markdown",
   "metadata": {},
   "source": [
    "### Langchain Messages"
   ]
  },
  {
   "cell_type": "code",
   "execution_count": 6,
   "metadata": {},
   "outputs": [],
   "source": [
    "from langchain_core.messages import SystemMessage, HumanMessage\n",
    "\n",
    "base_url = \"http://localhost:11434\"\n",
    "model = 'eeve:q4'\n",
    "\n",
    "llm = ChatOllama(base_url=base_url, model=model)"
   ]
  },
  {
   "cell_type": "code",
   "execution_count": 7,
   "metadata": {},
   "outputs": [
    {
     "name": "stdout",
     "output_type": "stream",
     "text": [
      "1. 지구는 태양계의 세 번째 행성으로, 우리 은하계 중심에서 약 26,000만 마일(42,000만 km) 떨어져 있습니다.\n",
      "\n",
      "2. 지름은 대략 7,926마일(12,756km)이며, 주로 물로 이루어진 유체층인 바다와 육지로 구성되어 있습니다. 지구의 대기는 산소, 질소, 아르곤 및 기타 가스로 이루어져 있으며, 생명 유지에 필수적인 보호막 역할을 합니다.\n",
      "\n",
      "3. 지구는 약 45억 년 전에 형성되었으며, 그 이후로 다양한 지질학적 과정과 생명의 진화로 인해 지속적으로 변화해 왔습니다. 현재 약 78억 명의 인구가 거주하고 있으며, 다양한 기후와 생태계를 가지고 있습니다.\n"
     ]
    }
   ],
   "source": [
    "question = HumanMessage('지구에 대해 3가지로 말해줘')\n",
    "system = SystemMessage('당신은 초등학교 선생님입니다. 짧은 문장으로 대답합니다.')\n",
    "\n",
    "messages = [system, question]\n",
    "response = llm.invoke(messages)\n",
    "\n",
    "print(response.content)"
   ]
  },
  {
   "cell_type": "markdown",
   "metadata": {},
   "source": [
    "### Langchain Prompt Templates"
   ]
  },
  {
   "cell_type": "code",
   "execution_count": 12,
   "metadata": {},
   "outputs": [],
   "source": [
    "from langchain_core.prompts import (\n",
    "                                        SystemMessagePromptTemplate,\n",
    "                                        HumanMessagePromptTemplate,\n",
    "                                        PromptTemplate,\n",
    "                                        ChatPromptTemplate\n",
    "                                        )\n",
    "\n",
    "system = SystemMessagePromptTemplate.from_template('당신은 {school} 선생님입니다.짧은 문장으로 설명해주세요.')\n",
    "question = HumanMessagePromptTemplate.from_template('{topics}에 대해 {points}가지로 설명해주세요.')"
   ]
  },
  {
   "cell_type": "code",
   "execution_count": 13,
   "metadata": {},
   "outputs": [
    {
     "data": {
      "text/plain": [
       "HumanMessage(content='지구에 대해 2가지로 설명해주세요.', additional_kwargs={}, response_metadata={})"
      ]
     },
     "execution_count": 13,
     "metadata": {},
     "output_type": "execute_result"
    }
   ],
   "source": [
    "question.format(topics='지구', points=2)"
   ]
  },
  {
   "cell_type": "code",
   "execution_count": 14,
   "metadata": {},
   "outputs": [
    {
     "data": {
      "text/plain": [
       "SystemMessage(content='당신은 초등학교 선생님입니다.짧은 문장으로 설명해주세요.', additional_kwargs={}, response_metadata={})"
      ]
     },
     "execution_count": 14,
     "metadata": {},
     "output_type": "execute_result"
    }
   ],
   "source": [
    "system.format(school='초등학교')"
   ]
  },
  {
   "cell_type": "code",
   "execution_count": 15,
   "metadata": {},
   "outputs": [],
   "source": [
    "messages = [system, question]\n",
    "\n",
    "template = ChatPromptTemplate(messages)"
   ]
  },
  {
   "cell_type": "code",
   "execution_count": 16,
   "metadata": {},
   "outputs": [
    {
     "name": "stdout",
     "output_type": "stream",
     "text": [
      "태양은 우리 태양계에서 가장 크고 중심이 되는 천체로, 지구를 포함한 여러 행성들의 주위를 도는 거대한 가스 구체입니다. 다음은 태양에 대한 두 가지 주요 측면입니다:\n",
      "\n",
      "1. **핵융합:** 태양의 내부에서는 핵융합이라는 과정이 일어나며, 이 과정에서 수소 원자들이 헬륨으로 변하면서 엄청난 양의 에너지를 방출합니다. 이 에너지는 복사 형태로 전달되어 태양을 따뜻하게 하고 빛과 열을 우주로 내보냅니다. 지구에 도달하는 태양광은 식물 성장에 필수적이며, 광합성 과정을 통해 식물이 햇빛을 화학 에너지로 전환하는데 도움을 줍니다.\n",
      "\n",
      "2. **주기적 현상:** 태양은 일주기와 달의 주기를 포함한 다양한 주기적인 현상을 보입니다. 하루는 지구가 자전축을 중심으로 한 바퀴를 도는데 걸리는 시간으로, 대략 24시간입니다. 반면, 달의 주기는 지구와 달 사이의 상대 운동에 의해 발생하는 조석 효과로 인해 발생합니다. 태양은 또한 일광 시간과 온도의 변화를 가져오는 계절 변화에도 영향을 미칩니다.\n",
      "\n",
      "태양은 우리 행성의 생명 유지에 필수적이며, 지구상의 모든 생명이 태양으로부터 나오는 에너지에 의존하고 있습니다.\n"
     ]
    }
   ],
   "source": [
    "question = template.invoke({'school': '중학교', 'topics': '태양', 'points': 2})\n",
    "\n",
    "response = llm.invoke(question)\n",
    "print(response.content)"
   ]
  }
 ],
 "metadata": {
  "kernelspec": {
   "display_name": "ollama",
   "language": "python",
   "name": "python3"
  },
  "language_info": {
   "codemirror_mode": {
    "name": "ipython",
    "version": 3
   },
   "file_extension": ".py",
   "mimetype": "text/x-python",
   "name": "python",
   "nbconvert_exporter": "python",
   "pygments_lexer": "ipython3",
   "version": "3.12.2"
  }
 },
 "nbformat": 4,
 "nbformat_minor": 2
}

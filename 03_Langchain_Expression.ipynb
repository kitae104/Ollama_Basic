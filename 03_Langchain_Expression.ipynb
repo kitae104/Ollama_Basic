{
 "cells": [
  {
   "cell_type": "markdown",
   "metadata": {},
   "source": [
    "### 랭체인 기본\n",
    "- SequentialChain\n",
    "- Parallel Chain\n",
    "- Router Chain\n",
    "- Chain Runnables\n",
    "- Custom Chain (Runnable Sequence)"
   ]
  },
  {
   "cell_type": "code",
   "execution_count": 1,
   "metadata": {},
   "outputs": [
    {
     "data": {
      "text/plain": [
       "True"
      ]
     },
     "execution_count": 1,
     "metadata": {},
     "output_type": "execute_result"
    }
   ],
   "source": [
    "from dotenv import load_dotenv\n",
    "load_dotenv('.env')"
   ]
  },
  {
   "cell_type": "code",
   "execution_count": 4,
   "metadata": {},
   "outputs": [
    {
     "data": {
      "text/plain": [
       "ChatOllama(model='eeve:q4', base_url='http://localhost:11434')"
      ]
     },
     "execution_count": 4,
     "metadata": {},
     "output_type": "execute_result"
    }
   ],
   "source": [
    "from langchain_ollama import ChatOllama\n",
    "from langchain_core.prompts import (\n",
    "                                        SystemMessagePromptTemplate,\n",
    "                                        HumanMessagePromptTemplate,\n",
    "                                        ChatPromptTemplate\n",
    "                                        )\n",
    "\n",
    "base_url = \"http://localhost:11434\"\n",
    "model = 'eeve:q4'\n",
    "#model = 'llama3.2:1b'\n",
    "\n",
    "llm = ChatOllama(base_url=base_url, model=model)\n",
    "llm"
   ]
  },
  {
   "cell_type": "code",
   "execution_count": 6,
   "metadata": {},
   "outputs": [
    {
     "name": "stdout",
     "output_type": "stream",
     "text": [
      "태양은 우리 태양계에서 가장 크고 중심이 되는 천체로, 지구를 포함한 여러 행성들의 주위를 도는 거대한 별입니다. 다음은 태양에 대한 두 가지 주요 측면입니다:\n",
      "\n",
      "1. **핵융합:** 태양의 내부에서는 핵융합이라는 과정이 일어나며, 여기서 수소 원자들이 헬륨으로 변하면서 엄청난 양의 에너지를 방출합니다. 이 에너지는 복사 형태로 전달되어 태양을 따뜻하게 하고 빛나는 것으로 만듭니다. 지구에 도달하는 태양복사는 우리 행성의 기후를 조절하고 식물과 다른 생물체들이 광합성을 통해 음식을 생산할 수 있게 합니다.\n",
      "\n",
      "2. **주기적 현상:** 태양은 일주기와 달의 주기를 포함한 다양한 주기적인 현상을 겪습니다. 하루는 지구가 자전축을 중심으로 한 바퀴 도는데 걸리는 시간으로, 대략 24시간입니다. 반면, 달의 주기는 지구와 달 사이의 상대적인 위치 변화로 인해 발생하는 월별 조석 변화를 말합니다.\n",
      "\n",
      "태양은 우리 태양계에서 중요한 역할을 하며, 생명에 필요한 에너지를 제공하고 행성들의 운동을 지배합니다.\n"
     ]
    }
   ],
   "source": [
    "system = SystemMessagePromptTemplate.from_template('당신은 {school} 선생님입니다.짧은 문장으로 설명해주세요.')\n",
    "question = HumanMessagePromptTemplate.from_template('{topics}에 대해 {points}가지로 설명해주세요.')\n",
    "\n",
    "messages = [system, question]\n",
    "template = ChatPromptTemplate(messages)\n",
    "\n",
    "question = template.invoke({'school': '중학교', 'topics': '태양', 'points': 2})\n",
    "\n",
    "response = llm.invoke(question)\n",
    "print(response.content)"
   ]
  },
  {
   "cell_type": "code",
   "execution_count": 7,
   "metadata": {},
   "outputs": [],
   "source": [
    "chain = template | llm"
   ]
  },
  {
   "cell_type": "code",
   "execution_count": 8,
   "metadata": {},
   "outputs": [
    {
     "name": "stdout",
     "output_type": "stream",
     "text": [
      "태양은 우리 태양계에서 가장 크고 중심이 되는 천체로, 지구를 포함한 여러 행성들의 주위를 도는 거대한 별입니다. 다음은 태양에 대한 두 가지 주요 측면입니다:\n",
      "\n",
      "1. **핵융합:** 태양의 내부에서는 핵융합이라는 과정이 일어나며, 여기서 수소 원자들이 헬륨으로 변하면서 엄청난 양의 에너지를 방출합니다. 이 에너지는 복사 형태로 전달되어 태양을 따뜻하게 하고 빛나는 것으로 만듭니다. 지구에 도달하는 태양복사는 우리 행성의 기후를 조절하고 식물과 다른 생물체들이 광합성을 통해 음식을 생산할 수 있게 합니다.\n",
      "\n",
      "2. **주기적 현상:** 태양은 일주기와 달의 주기를 포함한 다양한 주기적인 현상을 겪습니다. 하루는 지구가 자전축을 중심으로 한 바퀴 도는데 걸리는 시간으로, 대략 24시간입니다. 반면, 달의 주기는 지구와 달 사이의 상대적인 위치 변화로 인해 발생하는 월별 조석 변화를 말합니다.\n",
      "\n",
      "태양은 우리 태양계에서 중요한 역할을 하며, 생명에 필요한 에너지를 제공하고 행성들의 운동을 지배합니다.\n"
     ]
    }
   ],
   "source": [
    "chain = chain.invoke({'school': '중학교', 'topics': '태양', 'points': 2})\n",
    "print(response.content)"
   ]
  }
 ],
 "metadata": {
  "kernelspec": {
   "display_name": "ollama",
   "language": "python",
   "name": "python3"
  },
  "language_info": {
   "codemirror_mode": {
    "name": "ipython",
    "version": 3
   },
   "file_extension": ".py",
   "mimetype": "text/x-python",
   "name": "python",
   "nbconvert_exporter": "python",
   "pygments_lexer": "ipython3",
   "version": "3.12.2"
  }
 },
 "nbformat": 4,
 "nbformat_minor": 2
}

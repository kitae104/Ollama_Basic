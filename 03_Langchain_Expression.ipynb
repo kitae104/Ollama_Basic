{
 "cells": [
  {
   "cell_type": "markdown",
   "metadata": {},
   "source": [
    "### 랭체인 기본\n",
    "- SequentialChain\n",
    "- Parallel Chain\n",
    "- Router Chain\n",
    "- Chain Runnables\n",
    "- Custom Chain (Runnable Sequence)"
   ]
  },
  {
   "cell_type": "code",
   "execution_count": 1,
   "metadata": {},
   "outputs": [
    {
     "data": {
      "text/plain": [
       "True"
      ]
     },
     "execution_count": 1,
     "metadata": {},
     "output_type": "execute_result"
    }
   ],
   "source": [
    "from dotenv import load_dotenv\n",
    "load_dotenv('.env')"
   ]
  },
  {
   "cell_type": "code",
   "execution_count": 2,
   "metadata": {},
   "outputs": [
    {
     "data": {
      "text/plain": [
       "ChatOllama(model='eeve:q4', base_url='http://localhost:11434')"
      ]
     },
     "execution_count": 2,
     "metadata": {},
     "output_type": "execute_result"
    }
   ],
   "source": [
    "from langchain_ollama import ChatOllama\n",
    "from langchain_core.prompts import (\n",
    "                                        SystemMessagePromptTemplate,\n",
    "                                        HumanMessagePromptTemplate,\n",
    "                                        ChatPromptTemplate\n",
    "                                        )\n",
    "\n",
    "base_url = \"http://localhost:11434\"\n",
    "model = 'eeve:q4'\n",
    "#model = 'llama3.2:1b'\n",
    "\n",
    "llm = ChatOllama(base_url=base_url, model=model)\n",
    "llm"
   ]
  },
  {
   "cell_type": "code",
   "execution_count": 4,
   "metadata": {},
   "outputs": [
    {
     "name": "stdout",
     "output_type": "stream",
     "text": [
      "1. 태양은 우리 태양계 내 중심에 위치한 거대한 별입니다. 지구와 다른 행성들을 포함한 여러 천체들의 중력 중심 역할을 합니다.\n",
      "\n",
      "2. 태양은 핵융합을 통해 엄청난 양의 에너지를 방출하는 가스 구체입니다. 이 과정은 수소 원자가 헬륨으로 변하면서 빛, 열 및 기타 형태의 복사선을 방출하게 됩니다. 이 에너지는 지구에 도달하여 생명 유지에 필요한 온도를 제공하고 광합성을 통한 식물의 성장을 가능하게 합니다.\n",
      "\n",
      "태양은 주로 수소와 헬륨으로 구성되어 있으며, 그 외 소량의 다른 원소들도 포함되어 있습니다. 태양의 핵에서는 매우 높은 압력과 온도로 인해 핵융합이 일어나며, 이 과정에서 엄청난 양의 에너지가 방출됩니다. 이 에너지는 복사선 형태로 전달되며, 약 8분 만에 지구에 도달합니다.\n",
      "\n",
      "태양은 우리 행성에 필수적인 역할을 하며, 생명 유지에 필요한 빛과 열을 제공합니다. 또한 태양의 자기장은 우주에서 오는 입자들을 막아주는 보호막을 형성하여 지구를 방사능으로부터 보호하는 데 도움을 줍니다.\n"
     ]
    }
   ],
   "source": [
    "system = SystemMessagePromptTemplate.from_template('당신은 {school} 선생님입니다.짧은 문장으로 설명해주세요.')\n",
    "question = HumanMessagePromptTemplate.from_template('{topics}에 대해 {points}가지로 설명해주세요.')\n",
    "\n",
    "messages = [system, question]\n",
    "template = ChatPromptTemplate(messages)\n",
    "\n",
    "question = template.invoke({'school': '중학교', 'topics': '태양', 'points': 2})\n",
    "\n",
    "response = llm.invoke(question)\n",
    "print(response.content)"
   ]
  },
  {
   "cell_type": "code",
   "execution_count": 5,
   "metadata": {},
   "outputs": [],
   "source": [
    "chain = template | llm  # 탬플릿과 모델을 연결"
   ]
  },
  {
   "cell_type": "code",
   "execution_count": 6,
   "metadata": {},
   "outputs": [
    {
     "name": "stdout",
     "output_type": "stream",
     "text": [
      "1. 태양은 우리 태양계 중심에 위치한 거대한 별입니다. 수소와 헬륨으로 주로 이루어져 있으며, 핵융합 과정을 통해 엄청난 양의 에너지를 방출합니다. 이 에너지는 빛과 열 형태로 지구를 포함한 모든 행성에 도달하여 생명을 지탱하고 다양한 생태계를 지원합니다.\n",
      "\n",
      "2. 천문학적으로 태양은 G2V형 주계열성으로 분류됩니다. 'G2'는 그 표면 온도가 약 5,778켈빈임을 나타내며, 이는 별의 색깔을 노란색으로 만듭니다. 'V'는 태양이 수소 핵융합을 통해 에너지를 생성하는 주계열성임을 의미합니다.\n",
      "\n",
      "태양은 우리 행성의 기후, 날씨 패턴, 그리고 생명에 직접적인 영향을 미칩니다. 지구상의 모든 생명체에 필수적인 빛과 열을 제공하며, 광합성을 통한 식물의 성장과 생태계의 균형을 유지하는 데 도움을 줍니다. 또한 태양의 자기장과 방사선 출력은 우주 날씨와 통신 시스템에 영향을 미치며, 지구 대기권에서 오로라를 일으키는 원인이 됩니다.\n",
      "\n",
      "태양은 우리 태양계에서 가장 크고 중요한 천체이며, 그 존재는 행성들과 위성의 형성과 진화에 결정적인 역할을 했습니다. 또한 태양의 진화 단계와 미래는 우리 태양계에 대한 이해를 높이고 지구상의 생명에 미치는 잠재적 영향을 예측하는 데 도움을 줍니다.\n"
     ]
    }
   ],
   "source": [
    "response = chain.invoke({'school': '중학교', 'topics': '태양', 'points': 2})\n",
    "print(response.content)"
   ]
  },
  {
   "cell_type": "code",
   "execution_count": 7,
   "metadata": {},
   "outputs": [
    {
     "name": "stdout",
     "output_type": "stream",
     "text": [
      "태양은 우리 태양계에서 가장 크고 중심이 되는 천체로, 지구를 포함한 여러 행성들의 주위를 도는 거대한 가스 구체입니다. 다음은 태양에 대한 두 가지 설명입니다:\n",
      "\n",
      "1. **천체로서의 태양:** 태양은 핵융합을 통해 엄청난 양의 에너지를 방출하는 거대 질량의 별입니다. 주로 수소와 헬륨으로 이루어져 있으며, 이 원자들이 융합하여 빛과 열을 생산합니다. 태양의 중심 온도는 약 1500만 도에 달하며, 그 크기는 지구 지름의 대략 백만 배 정도입니다.\n",
      "\n",
      "2. **지구 생명체에 대한 영향:** 태양은 우리 행성에 생명을 유지하는 데 필수적인 역할을 합니다. 광합성을 통해 식물이 에너지를 생산하는 데 필요한 햇빛을 제공하며, 지구 대기에서 일어나는 여러 화학 반응을 촉매합니다. 또한, 태양의 열과 빛은 날씨 패턴에 영향을 미쳐 식물과 동물이 번성할 수 있는 적합한 환경을 조성합니다.\n",
      "\n",
      "태양은 우리 행성의 기후와 생태계에 직접적인 영향을 끼치며, 그 중요성은 과소평가될 수 없습니다.\n"
     ]
    }
   ],
   "source": [
    "response = chain.invoke({'school': '박사', 'topics': '태양', 'points': 2})\n",
    "print(response.content)"
   ]
  },
  {
   "cell_type": "code",
   "execution_count": 8,
   "metadata": {},
   "outputs": [
    {
     "data": {
      "text/plain": [
       "AIMessage(content='태양은 우리 태양계에서 가장 크고 중심이 되는 천체로, 지구를 포함한 여러 행성들의 주위를 도는 거대한 가스 구체입니다. 다음은 태양에 대한 두 가지 설명입니다:\\r\\n\\r\\n1. **천체로서의 태양:** 태양은 핵융합을 통해 엄청난 양의 에너지를 방출하는 거대 질량의 별입니다. 주로 수소와 헬륨으로 이루어져 있으며, 이 원자들이 융합하여 빛과 열을 생산합니다. 태양의 중심 온도는 약 1500만 도에 달하며, 그 크기는 지구 지름의 대략 백만 배 정도입니다.\\r\\n\\r\\n2. **지구 생명체에 대한 영향:** 태양은 우리 행성에 생명을 유지하는 데 필수적인 역할을 합니다. 광합성을 통해 식물이 에너지를 생산하는 데 필요한 햇빛을 제공하며, 지구 대기에서 일어나는 여러 화학 반응을 촉매합니다. 또한, 태양의 열과 빛은 날씨 패턴에 영향을 미쳐 식물과 동물이 번성할 수 있는 적합한 환경을 조성합니다.\\r\\n\\r\\n태양은 우리 행성의 기후와 생태계에 직접적인 영향을 끼치며, 그 중요성은 과소평가될 수 없습니다.', additional_kwargs={}, response_metadata={'model': 'eeve:q4', 'created_at': '2025-03-10T07:21:37.9928322Z', 'message': {'role': 'assistant', 'content': ''}, 'done_reason': 'stop', 'done': True, 'total_duration': 5021553100, 'load_duration': 8133400, 'prompt_eval_count': 23, 'prompt_eval_duration': 286000000, 'eval_count': 241, 'eval_duration': 4726000000}, id='run-4eb2c4fb-58a7-4f32-bc0b-43eab611947e-0', usage_metadata={'input_tokens': 23, 'output_tokens': 241, 'total_tokens': 264})"
      ]
     },
     "execution_count": 8,
     "metadata": {},
     "output_type": "execute_result"
    }
   ],
   "source": [
    "response"
   ]
  },
  {
   "cell_type": "markdown",
   "metadata": {},
   "source": [
    "#### StrOutputParser"
   ]
  },
  {
   "cell_type": "code",
   "execution_count": 9,
   "metadata": {},
   "outputs": [],
   "source": [
    "from langchain_core.output_parsers import StrOutputParser  # 출력을 문자열로 변환하는 파서"
   ]
  },
  {
   "cell_type": "code",
   "execution_count": 10,
   "metadata": {},
   "outputs": [
    {
     "name": "stdout",
     "output_type": "stream",
     "text": [
      "태양은 우리 태양계에서 가장 크고 중심이 되는 천체로, 지구를 포함한 여러 행성들을 돌고 있습니다. 다음은 태양에 대한 두 가지 주요 측면입니다:\n",
      "\n",
      "1. **핵융합:** 태양의 내부에서는 핵융합이라는 과정이 일어나며, 이는 수소 원자들이 헬륨으로 변하면서 엄청난 양의 에너지를 방출하는 과정입니다. 이 에너지는 복사 형태로 전달되어 태양을 뜨겁게 만들고 지구에 도달하여 생명을 지탱하고 다양한 생태계를 지원합니다.\n",
      "\n",
      "2. **주기적 현상:** 태양은 일명 태양 주기로 알려진 주기적인 변화를 경험합니다. 이러한 변화에는 11년마다 발생하는 태양 활동의 극대기와 최소기가 포함됩니다. 이 활동은 플레어, 코로나 질량 방출(CMEs), 그리고 지구에 영향을 줄 수 있는 자기장 변화와 같은 현상으로 나타납니다.\n",
      "\n",
      "태양은 우리 행성에 필수적인 에너지와 빛을 제공하며, 그 존재는 지구상의 생명 유지에 결정적입니다. 또한 태양의 행동을 연구함으로써 과학자들은 우주 날씨 패턴과 기후 변화에 대한 이해를 향상시킬 수 있습니다.\n"
     ]
    }
   ],
   "source": [
    "chain = template | llm | StrOutputParser()  # 탬플릿과 모델을 연결\n",
    "response = chain.invoke({'school': '유치원', 'topics': '태양', 'points': 2})\n",
    "print(response)"
   ]
  },
  {
   "cell_type": "markdown",
   "metadata": {},
   "source": [
    "### Runnable 체인(여러 Runnable 체인)\n",
    "- 이 체인을 더 많은 Runnable과 결합하여 또 다른 체인을 만들 수도 있습니다.\n",
    "- 생성된 출력이 얼마나 쉬운지 봅시다"
   ]
  },
  {
   "cell_type": "code",
   "execution_count": 11,
   "metadata": {},
   "outputs": [
    {
     "data": {
      "text/plain": [
       "ChatPromptTemplate(input_variables=['points', 'school', 'topics'], input_types={}, partial_variables={}, messages=[SystemMessagePromptTemplate(prompt=PromptTemplate(input_variables=['school'], input_types={}, partial_variables={}, template='당신은 {school} 선생님입니다.짧은 문장으로 설명해주세요.'), additional_kwargs={}), HumanMessagePromptTemplate(prompt=PromptTemplate(input_variables=['points', 'topics'], input_types={}, partial_variables={}, template='{topics}에 대해 {points}가지로 설명해주세요.'), additional_kwargs={})])\n",
       "| ChatOllama(model='eeve:q4', base_url='http://localhost:11434')\n",
       "| StrOutputParser()"
      ]
     },
     "execution_count": 11,
     "metadata": {},
     "output_type": "execute_result"
    }
   ],
   "source": [
    "chain"
   ]
  },
  {
   "cell_type": "code",
   "execution_count": 12,
   "metadata": {},
   "outputs": [
    {
     "name": "stdout",
     "output_type": "stream",
     "text": [
      "태양은 핵융합으로 에너지를 생성하고 주기적인 변화를 겪으며 지구에 필수적인 빛과 열을 제공하며, 과학자들이 우주 날씨와 기후 변화에 대한 이해를 향상시키는 데 도움을 줍니다.\n"
     ]
    }
   ],
   "source": [
    "analysis_prompt = ChatPromptTemplate.from_template('''\n",
    "다음 텍스트를 분석하세요: {response}\n",
    "이해하기가 얼마나 어려운지 말해야 합니다.\n",
    "한 문장으로만 답변하세요\n",
    "''')\n",
    "\n",
    "fact_check_chain = analysis_prompt | llm | StrOutputParser()\n",
    "\n",
    "output = fact_check_chain.invoke({'response': response})\n",
    "print(output)"
   ]
  },
  {
   "cell_type": "code",
   "execution_count": 13,
   "metadata": {},
   "outputs": [
    {
     "name": "stdout",
     "output_type": "stream",
     "text": [
      "태양계란 태양을 중심으로 돌고 있는 행성, 위성, 소행성, 유성체 및 기타 천체로 구성된 거대한 우주 체계입니다.\n"
     ]
    }
   ],
   "source": [
    "composed_chain = {\"response\": chain} | analysis_prompt | llm | StrOutputParser()\n",
    "\n",
    "output = composed_chain.invoke({'school': '박사', 'topics': '태양계', 'points': 5})\n",
    "print(output)"
   ]
  },
  {
   "cell_type": "markdown",
   "metadata": {},
   "source": [
    "### 병렬 LCEL 체인\n",
    "- 병렬 체인은 여러 실행 파일을 병렬로 실행하는 데 사용됩니다.\n",
    "- 최종 반환 값은 각 값의 결과가 적절한 키 아래에 있는 dict입니다."
   ]
  }
 ],
 "metadata": {
  "kernelspec": {
   "display_name": "ollama",
   "language": "python",
   "name": "python3"
  },
  "language_info": {
   "codemirror_mode": {
    "name": "ipython",
    "version": 3
   },
   "file_extension": ".py",
   "mimetype": "text/x-python",
   "name": "python",
   "nbconvert_exporter": "python",
   "pygments_lexer": "ipython3",
   "version": "3.12.5"
  }
 },
 "nbformat": 4,
 "nbformat_minor": 2
}
